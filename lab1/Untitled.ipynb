{
 "cells": [
  {
   "cell_type": "code",
   "execution_count": 1,
   "id": "d4cbec30-8874-4303-936d-896603a90d9c",
   "metadata": {},
   "outputs": [],
   "source": [
    "import cv2"
   ]
  },
  {
   "cell_type": "code",
   "execution_count": 2,
   "id": "3f1f72d9-1de1-455c-8f87-c50b4fec6892",
   "metadata": {},
   "outputs": [],
   "source": [
    "BW_IMG_PATH = \"mnist.jpeg\"\n",
    "BGR_IMG_PATH = \"test_img.jpg\"\n",
    "OUTPUT_PATH = \"saved_roi.png\""
   ]
  },
  {
   "cell_type": "code",
   "execution_count": 3,
   "id": "d728abea-631b-4ab0-8065-781852dfd8cb",
   "metadata": {},
   "outputs": [],
   "source": [
    "# read images\n",
    "bw_img = cv2.imread(BW_IMG_PATH, 0)  # 0-flag means \"read greyscale\"\n",
    "bgr_img = cv2.imread(BGR_IMG_PATH)"
   ]
  },
  {
   "cell_type": "code",
   "execution_count": 4,
   "id": "146e54f1-8935-45df-8a6f-329fce860bde",
   "metadata": {
    "tags": []
   },
   "outputs": [],
   "source": [
    "# show images\n",
    "cv2.imshow(\"Black-and-white image\", bw_img)\n",
    "cv2.imshow(\"Color image\", bgr_img)"
   ]
  },
  {
   "cell_type": "code",
   "execution_count": 5,
   "id": "392df940-8160-4c42-af91-0861cbae7508",
   "metadata": {},
   "outputs": [],
   "source": [
    "# BGR --> HSV\n",
    "hsv_img = cv2.cvtColor(bgr_img, cv2.COLOR_BGR2HSV)\n",
    "cv2.imshow(\"HSV image\", hsv_img)\n"
   ]
  },
  {
   "cell_type": "code",
   "execution_count": 6,
   "id": "16ba72e0-6149-4d28-b115-9958a7a7136b",
   "metadata": {},
   "outputs": [],
   "source": [
    "# show separate channels of rgb and hsv images\n",
    "cv2.imshow(\"B\", bgr_img[:, :, 0])\n",
    "cv2.imshow(\"G\", bgr_img[:, :, 1])\n",
    "cv2.imshow(\"R\", bgr_img[:, :, 2])\n",
    "cv2.imshow(\"H\", hsv_img[:, :, 0])\n",
    "cv2.imshow(\"S\", hsv_img[:, :, 1])\n",
    "cv2.imshow(\"V\", hsv_img[:, :, 2])"
   ]
  },
  {
   "cell_type": "code",
   "execution_count": null,
   "id": "ec82f767-3854-400b-be5a-22dd97fe3d22",
   "metadata": {},
   "outputs": [],
   "source": [
    "# press any key to stop showing images\n",
    "cv2.waitKey(0)"
   ]
  },
  {
   "cell_type": "code",
   "execution_count": null,
   "id": "cd8e383f-8c52-4d20-853c-cf0c719fb80d",
   "metadata": {},
   "outputs": [],
   "source": [
    "# copy a region of interest of bw image\n",
    "roi_bw = bw_img[:bw_img.shape[0]//2, :bw_img.shape[1]//2].copy()"
   ]
  },
  {
   "cell_type": "code",
   "execution_count": null,
   "id": "439f7955-fb5d-409a-8926-f2d72024796d",
   "metadata": {},
   "outputs": [],
   "source": [
    "# save roi copy\n",
    "cv2.imwrite(OUTPUT_PATH, roi_bw)"
   ]
  },
  {
   "cell_type": "code",
   "execution_count": null,
   "id": "320d2d8e-acca-472c-b35d-35da45f3db9e",
   "metadata": {},
   "outputs": [],
   "source": []
  }
 ],
 "metadata": {
  "kernelspec": {
   "display_name": "Python 3 (ipykernel)",
   "language": "python",
   "name": "python3"
  },
  "language_info": {
   "codemirror_mode": {
    "name": "ipython",
    "version": 3
   },
   "file_extension": ".py",
   "mimetype": "text/x-python",
   "name": "python",
   "nbconvert_exporter": "python",
   "pygments_lexer": "ipython3",
   "version": "3.7.0"
  }
 },
 "nbformat": 4,
 "nbformat_minor": 5
}
